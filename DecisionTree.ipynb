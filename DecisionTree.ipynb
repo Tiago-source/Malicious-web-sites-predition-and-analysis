{
 "cells": [
  {
   "cell_type": "code",
   "execution_count": 59,
   "id": "8b6894e3",
   "metadata": {},
   "outputs": [],
   "source": [
    "import numpy as np\n",
    "import pandas as pd\n",
    "import seaborn as sns\n",
    "\n",
    "import matplotlib.pyplot as plt\n",
    "%matplotlib inline"
   ]
  },
  {
   "cell_type": "code",
   "execution_count": 60,
   "id": "7f2e7dd1",
   "metadata": {},
   "outputs": [],
   "source": [
    "import warnings\n",
    "warnings.filterwarnings('ignore')"
   ]
  },
  {
   "cell_type": "code",
   "execution_count": 62,
   "id": "ba788bca",
   "metadata": {
    "scrolled": true
   },
   "outputs": [],
   "source": [
    "data = 'Webpages_Classification_train_data.csv'\n",
    "df = pd.read_csv(data)"
   ]
  },
  {
   "cell_type": "code",
   "execution_count": 63,
   "id": "4965d250",
   "metadata": {},
   "outputs": [
    {
     "data": {
      "text/plain": [
       "(1200000, 12)"
      ]
     },
     "execution_count": 63,
     "metadata": {},
     "output_type": "execute_result"
    }
   ],
   "source": [
    "df.shape"
   ]
  },
  {
   "cell_type": "code",
   "execution_count": 66,
   "id": "f01d5cde",
   "metadata": {},
   "outputs": [
    {
     "data": {
      "text/html": [
       "<div>\n",
       "<style scoped>\n",
       "    .dataframe tbody tr th:only-of-type {\n",
       "        vertical-align: middle;\n",
       "    }\n",
       "\n",
       "    .dataframe tbody tr th {\n",
       "        vertical-align: top;\n",
       "    }\n",
       "\n",
       "    .dataframe thead th {\n",
       "        text-align: right;\n",
       "    }\n",
       "</style>\n",
       "<table border=\"1\" class=\"dataframe\">\n",
       "  <thead>\n",
       "    <tr style=\"text-align: right;\">\n",
       "      <th></th>\n",
       "      <th>Unnamed: 0</th>\n",
       "      <th>url</th>\n",
       "      <th>url_len</th>\n",
       "      <th>ip_add</th>\n",
       "      <th>geo_loc</th>\n",
       "      <th>tld</th>\n",
       "      <th>who_is</th>\n",
       "      <th>https</th>\n",
       "      <th>js_len</th>\n",
       "      <th>js_obf_len</th>\n",
       "      <th>content</th>\n",
       "      <th>label</th>\n",
       "    </tr>\n",
       "  </thead>\n",
       "  <tbody>\n",
       "    <tr>\n",
       "      <th>0</th>\n",
       "      <td>0</td>\n",
       "      <td>http://members.tripod.com/russiastation/</td>\n",
       "      <td>40</td>\n",
       "      <td>42.77.221.155</td>\n",
       "      <td>Taiwan</td>\n",
       "      <td>com</td>\n",
       "      <td>complete</td>\n",
       "      <td>yes</td>\n",
       "      <td>58.0</td>\n",
       "      <td>0.0</td>\n",
       "      <td>Named themselves charged particles in a manly ...</td>\n",
       "      <td>good</td>\n",
       "    </tr>\n",
       "    <tr>\n",
       "      <th>1</th>\n",
       "      <td>1</td>\n",
       "      <td>http://www.ddj.com/cpp/184403822</td>\n",
       "      <td>32</td>\n",
       "      <td>3.211.202.180</td>\n",
       "      <td>United States</td>\n",
       "      <td>com</td>\n",
       "      <td>complete</td>\n",
       "      <td>yes</td>\n",
       "      <td>52.5</td>\n",
       "      <td>0.0</td>\n",
       "      <td>And filipino field \\n \\n \\n \\n \\n \\n \\n \\n the...</td>\n",
       "      <td>good</td>\n",
       "    </tr>\n",
       "    <tr>\n",
       "      <th>2</th>\n",
       "      <td>2</td>\n",
       "      <td>http://www.naef-usa.com/</td>\n",
       "      <td>24</td>\n",
       "      <td>24.232.54.41</td>\n",
       "      <td>Argentina</td>\n",
       "      <td>com</td>\n",
       "      <td>complete</td>\n",
       "      <td>yes</td>\n",
       "      <td>103.5</td>\n",
       "      <td>0.0</td>\n",
       "      <td>Took in cognitivism, whose adherents argue for...</td>\n",
       "      <td>good</td>\n",
       "    </tr>\n",
       "    <tr>\n",
       "      <th>3</th>\n",
       "      <td>3</td>\n",
       "      <td>http://www.ff-b2b.de/</td>\n",
       "      <td>21</td>\n",
       "      <td>147.22.38.45</td>\n",
       "      <td>United States</td>\n",
       "      <td>de</td>\n",
       "      <td>incomplete</td>\n",
       "      <td>no</td>\n",
       "      <td>720.0</td>\n",
       "      <td>532.8</td>\n",
       "      <td>fire cumshot sodomize footaction tortur failed...</td>\n",
       "      <td>bad</td>\n",
       "    </tr>\n",
       "    <tr>\n",
       "      <th>4</th>\n",
       "      <td>4</td>\n",
       "      <td>http://us.imdb.com/title/tt0176269/</td>\n",
       "      <td>35</td>\n",
       "      <td>205.30.239.85</td>\n",
       "      <td>United States</td>\n",
       "      <td>com</td>\n",
       "      <td>complete</td>\n",
       "      <td>yes</td>\n",
       "      <td>46.5</td>\n",
       "      <td>0.0</td>\n",
       "      <td>Levant, also monsignor georges. In 1800, lists...</td>\n",
       "      <td>good</td>\n",
       "    </tr>\n",
       "  </tbody>\n",
       "</table>\n",
       "</div>"
      ],
      "text/plain": [
       "   Unnamed: 0                                       url  url_len  \\\n",
       "0           0  http://members.tripod.com/russiastation/       40   \n",
       "1           1          http://www.ddj.com/cpp/184403822       32   \n",
       "2           2                  http://www.naef-usa.com/       24   \n",
       "3           3                     http://www.ff-b2b.de/       21   \n",
       "4           4       http://us.imdb.com/title/tt0176269/       35   \n",
       "\n",
       "          ip_add        geo_loc  tld      who_is https  js_len  js_obf_len  \\\n",
       "0  42.77.221.155         Taiwan  com    complete   yes    58.0         0.0   \n",
       "1  3.211.202.180  United States  com    complete   yes    52.5         0.0   \n",
       "2   24.232.54.41      Argentina  com    complete   yes   103.5         0.0   \n",
       "3   147.22.38.45  United States   de  incomplete    no   720.0       532.8   \n",
       "4  205.30.239.85  United States  com    complete   yes    46.5         0.0   \n",
       "\n",
       "                                             content label  \n",
       "0  Named themselves charged particles in a manly ...  good  \n",
       "1  And filipino field \\n \\n \\n \\n \\n \\n \\n \\n the...  good  \n",
       "2  Took in cognitivism, whose adherents argue for...  good  \n",
       "3  fire cumshot sodomize footaction tortur failed...   bad  \n",
       "4  Levant, also monsignor georges. In 1800, lists...  good  "
      ]
     },
     "execution_count": 66,
     "metadata": {},
     "output_type": "execute_result"
    }
   ],
   "source": [
    "df.head()"
   ]
  },
  {
   "cell_type": "code",
   "execution_count": 67,
   "id": "3d428a38",
   "metadata": {},
   "outputs": [],
   "source": [
    "bads = df.loc[df[\"label\"] == \"bad\"]\n",
    "goods = df.loc[df[\"label\"] == \"good\"]\n",
    "bads = bads.iloc[0:1001, 0:12]\n",
    "goods = goods.iloc[0:2001, 0:12]\n",
    "df = pd.concat([bads,goods])\n",
    "from sklearn.utils import shuffle\n",
    "df = shuffle(df)"
   ]
  },
  {
   "cell_type": "code",
   "execution_count": 68,
   "id": "2ce9b05c",
   "metadata": {},
   "outputs": [
    {
     "data": {
      "text/html": [
       "<div>\n",
       "<style scoped>\n",
       "    .dataframe tbody tr th:only-of-type {\n",
       "        vertical-align: middle;\n",
       "    }\n",
       "\n",
       "    .dataframe tbody tr th {\n",
       "        vertical-align: top;\n",
       "    }\n",
       "\n",
       "    .dataframe thead th {\n",
       "        text-align: right;\n",
       "    }\n",
       "</style>\n",
       "<table border=\"1\" class=\"dataframe\">\n",
       "  <thead>\n",
       "    <tr style=\"text-align: right;\">\n",
       "      <th></th>\n",
       "      <th>Unnamed: 0</th>\n",
       "      <th>url</th>\n",
       "      <th>url_len</th>\n",
       "      <th>ip_add</th>\n",
       "      <th>geo_loc</th>\n",
       "      <th>tld</th>\n",
       "      <th>who_is</th>\n",
       "      <th>https</th>\n",
       "      <th>js_len</th>\n",
       "      <th>js_obf_len</th>\n",
       "      <th>content</th>\n",
       "      <th>label</th>\n",
       "    </tr>\n",
       "  </thead>\n",
       "  <tbody>\n",
       "    <tr>\n",
       "      <th>10014</th>\n",
       "      <td>10014</td>\n",
       "      <td>http://www.pokergirls.com/</td>\n",
       "      <td>26</td>\n",
       "      <td>159.26.66.222</td>\n",
       "      <td>United States</td>\n",
       "      <td>com</td>\n",
       "      <td>complete</td>\n",
       "      <td>no</td>\n",
       "      <td>439.2</td>\n",
       "      <td>298.656</td>\n",
       "      <td>slimeball dick whites dickweed bast phuq shag ...</td>\n",
       "      <td>bad</td>\n",
       "    </tr>\n",
       "    <tr>\n",
       "      <th>268</th>\n",
       "      <td>268</td>\n",
       "      <td>http://www.tqs.net/scrsaver.htm</td>\n",
       "      <td>31</td>\n",
       "      <td>217.154.106.38</td>\n",
       "      <td>United Kingdom</td>\n",
       "      <td>net</td>\n",
       "      <td>complete</td>\n",
       "      <td>yes</td>\n",
       "      <td>157.5</td>\n",
       "      <td>0.000</td>\n",
       "      <td>99 percent aires, zárate, campana, rosario, sa...</td>\n",
       "      <td>good</td>\n",
       "    </tr>\n",
       "    <tr>\n",
       "      <th>8758</th>\n",
       "      <td>8758</td>\n",
       "      <td>http://supersexymodel.com/</td>\n",
       "      <td>26</td>\n",
       "      <td>45.200.6.224</td>\n",
       "      <td>South Africa</td>\n",
       "      <td>com</td>\n",
       "      <td>incomplete</td>\n",
       "      <td>no</td>\n",
       "      <td>315.0</td>\n",
       "      <td>0.000</td>\n",
       "      <td>niggard bootycall spigotty ass bigbutt asses j...</td>\n",
       "      <td>bad</td>\n",
       "    </tr>\n",
       "    <tr>\n",
       "      <th>28544</th>\n",
       "      <td>28544</td>\n",
       "      <td>http://www.sexcount.de/</td>\n",
       "      <td>23</td>\n",
       "      <td>162.47.33.1</td>\n",
       "      <td>United States</td>\n",
       "      <td>de</td>\n",
       "      <td>incomplete</td>\n",
       "      <td>no</td>\n",
       "      <td>803.7</td>\n",
       "      <td>450.072</td>\n",
       "      <td>jizz sixtyniner weewee racist williewanker ass...</td>\n",
       "      <td>bad</td>\n",
       "    </tr>\n",
       "    <tr>\n",
       "      <th>85</th>\n",
       "      <td>85</td>\n",
       "      <td>http://www.friendshipvillageoh.com/</td>\n",
       "      <td>35</td>\n",
       "      <td>209.149.91.25</td>\n",
       "      <td>United States</td>\n",
       "      <td>com</td>\n",
       "      <td>incomplete</td>\n",
       "      <td>yes</td>\n",
       "      <td>156.5</td>\n",
       "      <td>0.000</td>\n",
       "      <td>(2005). 301 for productive. Fossil fuels, of w...</td>\n",
       "      <td>good</td>\n",
       "    </tr>\n",
       "  </tbody>\n",
       "</table>\n",
       "</div>"
      ],
      "text/plain": [
       "       Unnamed: 0                                  url  url_len  \\\n",
       "10014       10014           http://www.pokergirls.com/       26   \n",
       "268           268      http://www.tqs.net/scrsaver.htm       31   \n",
       "8758         8758           http://supersexymodel.com/       26   \n",
       "28544       28544              http://www.sexcount.de/       23   \n",
       "85             85  http://www.friendshipvillageoh.com/       35   \n",
       "\n",
       "               ip_add         geo_loc  tld      who_is https  js_len  \\\n",
       "10014   159.26.66.222   United States  com    complete    no   439.2   \n",
       "268    217.154.106.38  United Kingdom  net    complete   yes   157.5   \n",
       "8758     45.200.6.224    South Africa  com  incomplete    no   315.0   \n",
       "28544     162.47.33.1   United States   de  incomplete    no   803.7   \n",
       "85      209.149.91.25   United States  com  incomplete   yes   156.5   \n",
       "\n",
       "       js_obf_len                                            content label  \n",
       "10014     298.656  slimeball dick whites dickweed bast phuq shag ...   bad  \n",
       "268         0.000  99 percent aires, zárate, campana, rosario, sa...  good  \n",
       "8758        0.000  niggard bootycall spigotty ass bigbutt asses j...   bad  \n",
       "28544     450.072  jizz sixtyniner weewee racist williewanker ass...   bad  \n",
       "85          0.000  (2005). 301 for productive. Fossil fuels, of w...  good  "
      ]
     },
     "execution_count": 68,
     "metadata": {},
     "output_type": "execute_result"
    }
   ],
   "source": [
    "df.head()"
   ]
  },
  {
   "cell_type": "code",
   "execution_count": 69,
   "id": "b41c1402",
   "metadata": {},
   "outputs": [],
   "source": [
    "X = df.drop(['label'], axis=1)\n",
    "y = df['label']"
   ]
  },
  {
   "cell_type": "code",
   "execution_count": 70,
   "id": "f467fb4f",
   "metadata": {},
   "outputs": [],
   "source": [
    "from sklearn.model_selection import train_test_split\n",
    "X_train, X_test, y_train, y_test = train_test_split(X, y, test_size = 0.33, random_state = 42)"
   ]
  },
  {
   "cell_type": "code",
   "execution_count": 71,
   "id": "92643e68",
   "metadata": {},
   "outputs": [
    {
     "data": {
      "text/plain": [
       "((2011, 11), (991, 11))"
      ]
     },
     "execution_count": 71,
     "metadata": {},
     "output_type": "execute_result"
    }
   ],
   "source": [
    "X_train.shape, X_test.shape"
   ]
  },
  {
   "cell_type": "code",
   "execution_count": 75,
   "id": "08f91999",
   "metadata": {},
   "outputs": [
    {
     "name": "stdout",
     "output_type": "stream",
     "text": [
      "Collecting category_encoders\n",
      "  Downloading category_encoders-2.5.0-py2.py3-none-any.whl (69 kB)\n",
      "Requirement already satisfied: scikit-learn>=0.20.0 in c:\\users\\ty132\\anaconda3\\lib\\site-packages (from category_encoders) (1.0.2)\n",
      "Requirement already satisfied: pandas>=1.0.5 in c:\\users\\ty132\\anaconda3\\lib\\site-packages (from category_encoders) (1.4.2)\n",
      "Requirement already satisfied: patsy>=0.5.1 in c:\\users\\ty132\\anaconda3\\lib\\site-packages (from category_encoders) (0.5.2)\n",
      "Requirement already satisfied: statsmodels>=0.9.0 in c:\\users\\ty132\\anaconda3\\lib\\site-packages (from category_encoders) (0.13.2)\n",
      "Requirement already satisfied: scipy>=1.0.0 in c:\\users\\ty132\\anaconda3\\lib\\site-packages (from category_encoders) (1.7.3)\n",
      "Requirement already satisfied: numpy>=1.14.0 in c:\\users\\ty132\\anaconda3\\lib\\site-packages (from category_encoders) (1.21.5)\n",
      "Requirement already satisfied: python-dateutil>=2.8.1 in c:\\users\\ty132\\anaconda3\\lib\\site-packages (from pandas>=1.0.5->category_encoders) (2.8.2)\n",
      "Requirement already satisfied: pytz>=2020.1 in c:\\users\\ty132\\anaconda3\\lib\\site-packages (from pandas>=1.0.5->category_encoders) (2021.3)\n",
      "Requirement already satisfied: six in c:\\users\\ty132\\anaconda3\\lib\\site-packages (from patsy>=0.5.1->category_encoders) (1.16.0)\n",
      "Requirement already satisfied: threadpoolctl>=2.0.0 in c:\\users\\ty132\\anaconda3\\lib\\site-packages (from scikit-learn>=0.20.0->category_encoders) (2.2.0)\n",
      "Requirement already satisfied: joblib>=0.11 in c:\\users\\ty132\\anaconda3\\lib\\site-packages (from scikit-learn>=0.20.0->category_encoders) (1.1.0)\n",
      "Requirement already satisfied: packaging>=21.3 in c:\\users\\ty132\\anaconda3\\lib\\site-packages (from statsmodels>=0.9.0->category_encoders) (21.3)\n",
      "Requirement already satisfied: pyparsing!=3.0.5,>=2.0.2 in c:\\users\\ty132\\anaconda3\\lib\\site-packages (from packaging>=21.3->statsmodels>=0.9.0->category_encoders) (3.0.4)\n",
      "Installing collected packages: category-encoders\n",
      "Successfully installed category-encoders-2.5.0\n"
     ]
    }
   ],
   "source": [
    "!pip install category_encoders"
   ]
  },
  {
   "cell_type": "code",
   "execution_count": 76,
   "id": "9c4cd5b2",
   "metadata": {},
   "outputs": [],
   "source": [
    "import category_encoders as ce"
   ]
  },
  {
   "cell_type": "code",
   "execution_count": 79,
   "id": "9727fcd9",
   "metadata": {},
   "outputs": [
    {
     "name": "stdout",
     "output_type": "stream",
     "text": [
      "Empty DataFrame\n",
      "Columns: [Unnamed: 0, url, url_len, ip_add, geo_loc, tld, who_is, https, js_len, js_obf_len, content, label]\n",
      "Index: []\n"
     ]
    }
   ],
   "source": [
    "print(df.iloc[0:0, 0:12])"
   ]
  },
  {
   "cell_type": "code",
   "execution_count": 81,
   "id": "40186064",
   "metadata": {},
   "outputs": [],
   "source": [
    "encoder = ce.OrdinalEncoder(cols=df.iloc[0:0, 0:11])\n",
    "X_train = encoder.fit_transform(X_train)\n",
    "\n",
    "X_test = encoder.transform(X_test)"
   ]
  },
  {
   "cell_type": "code",
   "execution_count": 82,
   "id": "f555b143",
   "metadata": {},
   "outputs": [],
   "source": [
    "from sklearn.tree import DecisionTreeClassifier"
   ]
  },
  {
   "cell_type": "code",
   "execution_count": 83,
   "id": "6c1bc829",
   "metadata": {},
   "outputs": [
    {
     "data": {
      "text/plain": [
       "DecisionTreeClassifier(criterion='entropy', max_depth=3, random_state=0)"
      ]
     },
     "execution_count": 83,
     "metadata": {},
     "output_type": "execute_result"
    }
   ],
   "source": [
    "clf_en = DecisionTreeClassifier(criterion='entropy', max_depth=3, random_state=0)\n",
    "clf_en.fit(X_train, y_train)"
   ]
  },
  {
   "cell_type": "code",
   "execution_count": 84,
   "id": "7dce4d92",
   "metadata": {},
   "outputs": [],
   "source": [
    "y_pred_en = clf_en.predict(X_test)"
   ]
  },
  {
   "cell_type": "code",
   "execution_count": 85,
   "id": "077d36cd",
   "metadata": {},
   "outputs": [
    {
     "name": "stdout",
     "output_type": "stream",
     "text": [
      "Model accuracy score with criterion entropy: 0.9203\n"
     ]
    }
   ],
   "source": [
    "from sklearn.metrics import accuracy_score\n",
    "print('Model accuracy score with criterion entropy: {0:0.4f}'. format(accuracy_score(y_test, y_pred_en)))"
   ]
  },
  {
   "cell_type": "code",
   "execution_count": 86,
   "id": "a73b3df2",
   "metadata": {
    "scrolled": true
   },
   "outputs": [
    {
     "data": {
      "text/plain": [
       "array(['good', 'good', 'good', ..., 'good', 'bad', 'good'], dtype=object)"
      ]
     },
     "execution_count": 86,
     "metadata": {},
     "output_type": "execute_result"
    }
   ],
   "source": [
    "y_pred_train_en = clf_en.predict(X_train)\n",
    "y_pred_train_en"
   ]
  },
  {
   "cell_type": "code",
   "execution_count": 87,
   "id": "29830bec",
   "metadata": {
    "scrolled": true
   },
   "outputs": [
    {
     "name": "stdout",
     "output_type": "stream",
     "text": [
      "Training-set accuracy score: 0.9662\n"
     ]
    }
   ],
   "source": [
    "print('Training-set accuracy score: {0:0.4f}'. format(accuracy_score(y_train, y_pred_train_en)))"
   ]
  },
  {
   "cell_type": "code",
   "execution_count": 88,
   "id": "15e4817f",
   "metadata": {},
   "outputs": [
    {
     "name": "stdout",
     "output_type": "stream",
     "text": [
      "Training set score: 0.9662\n",
      "Test set score: 0.9203\n"
     ]
    }
   ],
   "source": [
    "\n",
    "\n",
    "print('Training set score: {:.4f}'.format(clf_en.score(X_train, y_train)))\n",
    "print('Test set score: {:.4f}'.format(clf_en.score(X_test, y_test)))\n",
    "\n"
   ]
  },
  {
   "cell_type": "code",
   "execution_count": 89,
   "id": "2a0f529f",
   "metadata": {},
   "outputs": [
    {
     "data": {
      "text/plain": [
       "[Text(0.625, 0.875, 'X[9] <= 1.5\\nentropy = 0.918\\nsamples = 2011\\nvalue = [670, 1341]'),\n",
       " Text(0.5, 0.625, 'X[7] <= 1.5\\nentropy = 0.318\\nsamples = 1423\\nvalue = [82, 1341]'),\n",
       " Text(0.25, 0.375, 'X[8] <= 9.0\\nentropy = 0.05\\nsamples = 1068\\nvalue = [6, 1062]'),\n",
       " Text(0.125, 0.125, 'entropy = 0.281\\nsamples = 82\\nvalue = [4, 78]'),\n",
       " Text(0.375, 0.125, 'entropy = 0.021\\nsamples = 986\\nvalue = [2, 984]'),\n",
       " Text(0.75, 0.375, 'X[6] <= 1.5\\nentropy = 0.749\\nsamples = 355\\nvalue = [76, 279]'),\n",
       " Text(0.625, 0.125, 'entropy = 0.175\\nsamples = 229\\nvalue = [6, 223]'),\n",
       " Text(0.875, 0.125, 'entropy = 0.991\\nsamples = 126\\nvalue = [70, 56]'),\n",
       " Text(0.75, 0.625, 'entropy = 0.0\\nsamples = 588\\nvalue = [588, 0]')]"
      ]
     },
     "execution_count": 89,
     "metadata": {},
     "output_type": "execute_result"
    },
    {
     "data": {
      "image/png": "[encoded data removed]",
      "text/plain": [
       "<Figure size 864x576 with 1 Axes>"
      ]
     },
     "metadata": {
      "needs_background": "light"
     },
     "output_type": "display_data"
    }
   ],
   "source": [
    "plt.figure(figsize=(12,8))\n",
    "from sklearn import tree\n",
    "tree.plot_tree(clf_en.fit(X_train, y_train))"
   ]
  },
  {
   "cell_type": "code",
   "execution_count": 90,
   "id": "7ecdc537",
   "metadata": {},
   "outputs": [
    {
     "name": "stdout",
     "output_type": "stream",
     "text": [
      "Confusion matrix\n",
      "\n",
      " [[269  62]\n",
      " [ 17 643]]\n"
     ]
    }
   ],
   "source": [
    "from sklearn.metrics import confusion_matrix\n",
    "cm = confusion_matrix(y_test, y_pred_en)\n",
    "print('Confusion matrix\\n\\n', cm)"
   ]
  },
  {
   "cell_type": "code",
   "execution_count": 91,
   "id": "95bd2b6a",
   "metadata": {},
   "outputs": [
    {
     "name": "stdout",
     "output_type": "stream",
     "text": [
      "              precision    recall  f1-score   support\n",
      "\n",
      "         bad       0.94      0.81      0.87       331\n",
      "        good       0.91      0.97      0.94       660\n",
      "\n",
      "    accuracy                           0.92       991\n",
      "   macro avg       0.93      0.89      0.91       991\n",
      "weighted avg       0.92      0.92      0.92       991\n",
      "\n"
     ]
    }
   ],
   "source": [
    "from sklearn.metrics import classification_report\n",
    "print(classification_report(y_test, y_pred_en))"
   ]
  },
  {
   "cell_type": "code",
   "execution_count": 55,
   "id": "6a7eace8",
   "metadata": {},
   "outputs": [],
   "source": []
  },
  {
   "cell_type": "code",
   "execution_count": null,
   "id": "5a4e5691",
   "metadata": {},
   "outputs": [],
   "source": []
  },
  {
   "cell_type": "code",
   "execution_count": 57,
   "id": "be64620a",
   "metadata": {},
   "outputs": [],
   "source": []
  },
  {
   "cell_type": "code",
   "execution_count": 58,
   "id": "89e234cc",
   "metadata": {},
   "outputs": [],
   "source": []
  },
  {
   "cell_type": "code",
   "execution_count": 59,
   "id": "e501c55c",
   "metadata": {},
   "outputs": [],
   "source": []
  },
  {
   "cell_type": "code",
   "execution_count": 60,
   "id": "abc151a7",
   "metadata": {},
   "outputs": [],
   "source": []
  },
  {
   "cell_type": "code",
   "execution_count": null,
   "id": "4edd92f9",
   "metadata": {},
   "outputs": [],
   "source": []
  },
  {
   "cell_type": "code",
   "execution_count": null,
   "id": "508dbda6",
   "metadata": {},
   "outputs": [],
   "source": []
  }
 ],
 "metadata": {
  "kernelspec": {
   "display_name": "Python 3 (ipykernel)",
   "language": "python",
   "name": "python3"
  },
  "language_info": {
   "codemirror_mode": {
    "name": "ipython",
    "version": 3
   },
   "file_extension": ".py",
   "mimetype": "text/x-python",
   "name": "python",
   "nbconvert_exporter": "python",
   "pygments_lexer": "ipython3",
   "version": "3.9.12"
  }
 },
 "nbformat": 4,
 "nbformat_minor": 5
}

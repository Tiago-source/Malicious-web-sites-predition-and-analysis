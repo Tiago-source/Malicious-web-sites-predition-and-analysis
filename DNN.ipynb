{
 "cells": [
  {
   "cell_type": "code",
   "execution_count": 2,
   "id": "8b6894e3",
   "metadata": {},
   "outputs": [
    {
     "name": "stdout",
     "output_type": "stream",
     "text": [
      "Collecting torch\n",
      "  Downloading torch-1.11.0-cp39-cp39-win_amd64.whl (157.9 MB)\n",
      "Requirement already satisfied: typing-extensions in c:\\users\\ty132\\anaconda3\\lib\\site-packages (from torch) (4.1.1)\n",
      "Installing collected packages: torch\n",
      "Successfully installed torch-1.11.0\n"
     ]
    }
   ],
   "source": [
    "!pip install torch\n",
    "\n",
    "import pandas as pd\n",
    "import numpy as np\n",
    "\n",
    "\n",
    "import matplotlib.pyplot as plt\n",
    "import seaborn as sns\n",
    "import plotly.graph_objects as go\n",
    "import plotly.express as px\n",
    "\n",
    "import torch\n",
    "import torch.nn as nn\n",
    "import torch.nn.functional as F\n",
    "import torch.optim as optim\n",
    "from torch.utils.data import Dataset, DataLoader\n",
    "from sklearn import metrics\n",
    "from sklearn.preprocessing import LabelEncoder, StandardScaler"
   ]
  },
  {
   "cell_type": "code",
   "execution_count": 4,
   "id": "7f2e7dd1",
   "metadata": {},
   "outputs": [],
   "source": [
    "data1 = pd.read_csv('Webpages_Classification_train_data.csv')"
   ]
  },
  {
   "cell_type": "code",
   "execution_count": 5,
   "id": "ba788bca",
   "metadata": {
    "scrolled": true
   },
   "outputs": [
    {
     "data": {
      "text/html": [
       "<div>\n",
       "<style scoped>\n",
       "    .dataframe tbody tr th:only-of-type {\n",
       "        vertical-align: middle;\n",
       "    }\n",
       "\n",
       "    .dataframe tbody tr th {\n",
       "        vertical-align: top;\n",
       "    }\n",
       "\n",
       "    .dataframe thead th {\n",
       "        text-align: right;\n",
       "    }\n",
       "</style>\n",
       "<table border=\"1\" class=\"dataframe\">\n",
       "  <thead>\n",
       "    <tr style=\"text-align: right;\">\n",
       "      <th></th>\n",
       "      <th>Unnamed: 0</th>\n",
       "      <th>url</th>\n",
       "      <th>url_len</th>\n",
       "      <th>ip_add</th>\n",
       "      <th>geo_loc</th>\n",
       "      <th>tld</th>\n",
       "      <th>who_is</th>\n",
       "      <th>https</th>\n",
       "      <th>js_len</th>\n",
       "      <th>js_obf_len</th>\n",
       "      <th>content</th>\n",
       "      <th>label</th>\n",
       "    </tr>\n",
       "  </thead>\n",
       "  <tbody>\n",
       "    <tr>\n",
       "      <th>0</th>\n",
       "      <td>0</td>\n",
       "      <td>http://members.tripod.com/russiastation/</td>\n",
       "      <td>40</td>\n",
       "      <td>42.77.221.155</td>\n",
       "      <td>Taiwan</td>\n",
       "      <td>com</td>\n",
       "      <td>complete</td>\n",
       "      <td>yes</td>\n",
       "      <td>58.0</td>\n",
       "      <td>0.0</td>\n",
       "      <td>Named themselves charged particles in a manly ...</td>\n",
       "      <td>good</td>\n",
       "    </tr>\n",
       "    <tr>\n",
       "      <th>1</th>\n",
       "      <td>1</td>\n",
       "      <td>http://www.ddj.com/cpp/184403822</td>\n",
       "      <td>32</td>\n",
       "      <td>3.211.202.180</td>\n",
       "      <td>United States</td>\n",
       "      <td>com</td>\n",
       "      <td>complete</td>\n",
       "      <td>yes</td>\n",
       "      <td>52.5</td>\n",
       "      <td>0.0</td>\n",
       "      <td>And filipino field \\n \\n \\n \\n \\n \\n \\n \\n the...</td>\n",
       "      <td>good</td>\n",
       "    </tr>\n",
       "    <tr>\n",
       "      <th>2</th>\n",
       "      <td>2</td>\n",
       "      <td>http://www.naef-usa.com/</td>\n",
       "      <td>24</td>\n",
       "      <td>24.232.54.41</td>\n",
       "      <td>Argentina</td>\n",
       "      <td>com</td>\n",
       "      <td>complete</td>\n",
       "      <td>yes</td>\n",
       "      <td>103.5</td>\n",
       "      <td>0.0</td>\n",
       "      <td>Took in cognitivism, whose adherents argue for...</td>\n",
       "      <td>good</td>\n",
       "    </tr>\n",
       "    <tr>\n",
       "      <th>3</th>\n",
       "      <td>3</td>\n",
       "      <td>http://www.ff-b2b.de/</td>\n",
       "      <td>21</td>\n",
       "      <td>147.22.38.45</td>\n",
       "      <td>United States</td>\n",
       "      <td>de</td>\n",
       "      <td>incomplete</td>\n",
       "      <td>no</td>\n",
       "      <td>720.0</td>\n",
       "      <td>532.8</td>\n",
       "      <td>fire cumshot sodomize footaction tortur failed...</td>\n",
       "      <td>bad</td>\n",
       "    </tr>\n",
       "    <tr>\n",
       "      <th>4</th>\n",
       "      <td>4</td>\n",
       "      <td>http://us.imdb.com/title/tt0176269/</td>\n",
       "      <td>35</td>\n",
       "      <td>205.30.239.85</td>\n",
       "      <td>United States</td>\n",
       "      <td>com</td>\n",
       "      <td>complete</td>\n",
       "      <td>yes</td>\n",
       "      <td>46.5</td>\n",
       "      <td>0.0</td>\n",
       "      <td>Levant, also monsignor georges. In 1800, lists...</td>\n",
       "      <td>good</td>\n",
       "    </tr>\n",
       "  </tbody>\n",
       "</table>\n",
       "</div>"
      ],
      "text/plain": [
       "   Unnamed: 0                                       url  url_len  \\\n",
       "0           0  http://members.tripod.com/russiastation/       40   \n",
       "1           1          http://www.ddj.com/cpp/184403822       32   \n",
       "2           2                  http://www.naef-usa.com/       24   \n",
       "3           3                     http://www.ff-b2b.de/       21   \n",
       "4           4       http://us.imdb.com/title/tt0176269/       35   \n",
       "\n",
       "          ip_add        geo_loc  tld      who_is https  js_len  js_obf_len  \\\n",
       "0  42.77.221.155         Taiwan  com    complete   yes    58.0         0.0   \n",
       "1  3.211.202.180  United States  com    complete   yes    52.5         0.0   \n",
       "2   24.232.54.41      Argentina  com    complete   yes   103.5         0.0   \n",
       "3   147.22.38.45  United States   de  incomplete    no   720.0       532.8   \n",
       "4  205.30.239.85  United States  com    complete   yes    46.5         0.0   \n",
       "\n",
       "                                             content label  \n",
       "0  Named themselves charged particles in a manly ...  good  \n",
       "1  And filipino field \\n \\n \\n \\n \\n \\n \\n \\n the...  good  \n",
       "2  Took in cognitivism, whose adherents argue for...  good  \n",
       "3  fire cumshot sodomize footaction tortur failed...   bad  \n",
       "4  Levant, also monsignor georges. In 1800, lists...  good  "
      ]
     },
     "execution_count": 5,
     "metadata": {},
     "output_type": "execute_result"
    }
   ],
   "source": [
    "data1.head()"
   ]
  },
  {
   "cell_type": "code",
   "execution_count": 6,
   "id": "4965d250",
   "metadata": {},
   "outputs": [
    {
     "data": {
      "text/plain": [
       "Unnamed: 0      int64\n",
       "url            object\n",
       "url_len         int64\n",
       "ip_add         object\n",
       "geo_loc        object\n",
       "tld            object\n",
       "who_is         object\n",
       "https          object\n",
       "js_len        float64\n",
       "js_obf_len    float64\n",
       "content        object\n",
       "label          object\n",
       "dtype: object"
      ]
     },
     "execution_count": 6,
     "metadata": {},
     "output_type": "execute_result"
    }
   ],
   "source": [
    "data1.dtypes"
   ]
  },
  {
   "cell_type": "code",
   "execution_count": 7,
   "id": "f01d5cde",
   "metadata": {},
   "outputs": [],
   "source": [
    "bads = data1.loc[data1[\"label\"] == \"bad\"]"
   ]
  },
  {
   "cell_type": "code",
   "execution_count": 8,
   "id": "3d428a38",
   "metadata": {},
   "outputs": [
    {
     "data": {
      "text/html": [
       "<div>\n",
       "<style scoped>\n",
       "    .dataframe tbody tr th:only-of-type {\n",
       "        vertical-align: middle;\n",
       "    }\n",
       "\n",
       "    .dataframe tbody tr th {\n",
       "        vertical-align: top;\n",
       "    }\n",
       "\n",
       "    .dataframe thead th {\n",
       "        text-align: right;\n",
       "    }\n",
       "</style>\n",
       "<table border=\"1\" class=\"dataframe\">\n",
       "  <thead>\n",
       "    <tr style=\"text-align: right;\">\n",
       "      <th></th>\n",
       "      <th>Unnamed: 0</th>\n",
       "      <th>url</th>\n",
       "      <th>url_len</th>\n",
       "      <th>ip_add</th>\n",
       "      <th>geo_loc</th>\n",
       "      <th>tld</th>\n",
       "      <th>who_is</th>\n",
       "      <th>https</th>\n",
       "      <th>js_len</th>\n",
       "      <th>js_obf_len</th>\n",
       "      <th>content</th>\n",
       "      <th>label</th>\n",
       "    </tr>\n",
       "  </thead>\n",
       "  <tbody>\n",
       "    <tr>\n",
       "      <th>3</th>\n",
       "      <td>3</td>\n",
       "      <td>http://www.ff-b2b.de/</td>\n",
       "      <td>21</td>\n",
       "      <td>147.22.38.45</td>\n",
       "      <td>United States</td>\n",
       "      <td>de</td>\n",
       "      <td>incomplete</td>\n",
       "      <td>no</td>\n",
       "      <td>720.0</td>\n",
       "      <td>532.800</td>\n",
       "      <td>fire cumshot sodomize footaction tortur failed...</td>\n",
       "      <td>bad</td>\n",
       "    </tr>\n",
       "    <tr>\n",
       "      <th>64</th>\n",
       "      <td>64</td>\n",
       "      <td>http://dracula-land.sexomultiple.com/cg-amateu...</td>\n",
       "      <td>63</td>\n",
       "      <td>97.83.163.187</td>\n",
       "      <td>United States</td>\n",
       "      <td>com</td>\n",
       "      <td>incomplete</td>\n",
       "      <td>no</td>\n",
       "      <td>621.0</td>\n",
       "      <td>378.810</td>\n",
       "      <td>dingleberry suckmyass transexual waysted piker...</td>\n",
       "      <td>bad</td>\n",
       "    </tr>\n",
       "    <tr>\n",
       "      <th>114</th>\n",
       "      <td>114</td>\n",
       "      <td>http://www.angelfire.com/darkside/ms_sassy/</td>\n",
       "      <td>43</td>\n",
       "      <td>76.72.209.223</td>\n",
       "      <td>United States</td>\n",
       "      <td>com</td>\n",
       "      <td>incomplete</td>\n",
       "      <td>no</td>\n",
       "      <td>513.0</td>\n",
       "      <td>338.580</td>\n",
       "      <td>niggarding masterblaster buttplug bigass gangs...</td>\n",
       "      <td>bad</td>\n",
       "    </tr>\n",
       "    <tr>\n",
       "      <th>144</th>\n",
       "      <td>144</td>\n",
       "      <td>http://www.sexystat.com</td>\n",
       "      <td>23</td>\n",
       "      <td>130.5.218.123</td>\n",
       "      <td>United States</td>\n",
       "      <td>com</td>\n",
       "      <td>incomplete</td>\n",
       "      <td>no</td>\n",
       "      <td>420.3</td>\n",
       "      <td>193.338</td>\n",
       "      <td>attack loverocket bulldike cumshot groe slant ...</td>\n",
       "      <td>bad</td>\n",
       "    </tr>\n",
       "    <tr>\n",
       "      <th>167</th>\n",
       "      <td>167</td>\n",
       "      <td>http://www.bizarre-sex.ws/</td>\n",
       "      <td>26</td>\n",
       "      <td>49.126.108.27</td>\n",
       "      <td>Nepal</td>\n",
       "      <td>ws</td>\n",
       "      <td>incomplete</td>\n",
       "      <td>no</td>\n",
       "      <td>335.7</td>\n",
       "      <td>0.000</td>\n",
       "      <td>muffindiver husky peepshow magicwand mad phukk...</td>\n",
       "      <td>bad</td>\n",
       "    </tr>\n",
       "  </tbody>\n",
       "</table>\n",
       "</div>"
      ],
      "text/plain": [
       "     Unnamed: 0                                                url  url_len  \\\n",
       "3             3                              http://www.ff-b2b.de/       21   \n",
       "64           64  http://dracula-land.sexomultiple.com/cg-amateu...       63   \n",
       "114         114        http://www.angelfire.com/darkside/ms_sassy/       43   \n",
       "144         144                            http://www.sexystat.com       23   \n",
       "167         167                         http://www.bizarre-sex.ws/       26   \n",
       "\n",
       "            ip_add        geo_loc  tld      who_is https  js_len  js_obf_len  \\\n",
       "3     147.22.38.45  United States   de  incomplete    no   720.0     532.800   \n",
       "64   97.83.163.187  United States  com  incomplete    no   621.0     378.810   \n",
       "114  76.72.209.223  United States  com  incomplete    no   513.0     338.580   \n",
       "144  130.5.218.123  United States  com  incomplete    no   420.3     193.338   \n",
       "167  49.126.108.27          Nepal   ws  incomplete    no   335.7       0.000   \n",
       "\n",
       "                                               content label  \n",
       "3    fire cumshot sodomize footaction tortur failed...   bad  \n",
       "64   dingleberry suckmyass transexual waysted piker...   bad  \n",
       "114  niggarding masterblaster buttplug bigass gangs...   bad  \n",
       "144  attack loverocket bulldike cumshot groe slant ...   bad  \n",
       "167  muffindiver husky peepshow magicwand mad phukk...   bad  "
      ]
     },
     "execution_count": 8,
     "metadata": {},
     "output_type": "execute_result"
    }
   ],
   "source": [
    "bads.head()"
   ]
  },
  {
   "cell_type": "code",
   "execution_count": 9,
   "id": "2ce9b05c",
   "metadata": {},
   "outputs": [
    {
     "data": {
      "text/plain": [
       "label\n",
       "bad    27253\n",
       "dtype: int64"
      ]
     },
     "execution_count": 9,
     "metadata": {},
     "output_type": "execute_result"
    }
   ],
   "source": [
    "bads.groupby('label').size()"
   ]
  },
  {
   "cell_type": "code",
   "execution_count": 10,
   "id": "b41c1402",
   "metadata": {},
   "outputs": [],
   "source": [
    "goods = data1.loc[data1[\"label\"] == \"good\"]"
   ]
  },
  {
   "cell_type": "code",
   "execution_count": 11,
   "id": "f467fb4f",
   "metadata": {},
   "outputs": [
    {
     "data": {
      "text/html": [
       "<div>\n",
       "<style scoped>\n",
       "    .dataframe tbody tr th:only-of-type {\n",
       "        vertical-align: middle;\n",
       "    }\n",
       "\n",
       "    .dataframe tbody tr th {\n",
       "        vertical-align: top;\n",
       "    }\n",
       "\n",
       "    .dataframe thead th {\n",
       "        text-align: right;\n",
       "    }\n",
       "</style>\n",
       "<table border=\"1\" class=\"dataframe\">\n",
       "  <thead>\n",
       "    <tr style=\"text-align: right;\">\n",
       "      <th></th>\n",
       "      <th>Unnamed: 0</th>\n",
       "      <th>url</th>\n",
       "      <th>url_len</th>\n",
       "      <th>ip_add</th>\n",
       "      <th>geo_loc</th>\n",
       "      <th>tld</th>\n",
       "      <th>who_is</th>\n",
       "      <th>https</th>\n",
       "      <th>js_len</th>\n",
       "      <th>js_obf_len</th>\n",
       "      <th>content</th>\n",
       "      <th>label</th>\n",
       "    </tr>\n",
       "  </thead>\n",
       "  <tbody>\n",
       "    <tr>\n",
       "      <th>0</th>\n",
       "      <td>0</td>\n",
       "      <td>http://members.tripod.com/russiastation/</td>\n",
       "      <td>40</td>\n",
       "      <td>42.77.221.155</td>\n",
       "      <td>Taiwan</td>\n",
       "      <td>com</td>\n",
       "      <td>complete</td>\n",
       "      <td>yes</td>\n",
       "      <td>58.0</td>\n",
       "      <td>0.0</td>\n",
       "      <td>Named themselves charged particles in a manly ...</td>\n",
       "      <td>good</td>\n",
       "    </tr>\n",
       "    <tr>\n",
       "      <th>1</th>\n",
       "      <td>1</td>\n",
       "      <td>http://www.ddj.com/cpp/184403822</td>\n",
       "      <td>32</td>\n",
       "      <td>3.211.202.180</td>\n",
       "      <td>United States</td>\n",
       "      <td>com</td>\n",
       "      <td>complete</td>\n",
       "      <td>yes</td>\n",
       "      <td>52.5</td>\n",
       "      <td>0.0</td>\n",
       "      <td>And filipino field \\n \\n \\n \\n \\n \\n \\n \\n the...</td>\n",
       "      <td>good</td>\n",
       "    </tr>\n",
       "    <tr>\n",
       "      <th>2</th>\n",
       "      <td>2</td>\n",
       "      <td>http://www.naef-usa.com/</td>\n",
       "      <td>24</td>\n",
       "      <td>24.232.54.41</td>\n",
       "      <td>Argentina</td>\n",
       "      <td>com</td>\n",
       "      <td>complete</td>\n",
       "      <td>yes</td>\n",
       "      <td>103.5</td>\n",
       "      <td>0.0</td>\n",
       "      <td>Took in cognitivism, whose adherents argue for...</td>\n",
       "      <td>good</td>\n",
       "    </tr>\n",
       "    <tr>\n",
       "      <th>4</th>\n",
       "      <td>4</td>\n",
       "      <td>http://us.imdb.com/title/tt0176269/</td>\n",
       "      <td>35</td>\n",
       "      <td>205.30.239.85</td>\n",
       "      <td>United States</td>\n",
       "      <td>com</td>\n",
       "      <td>complete</td>\n",
       "      <td>yes</td>\n",
       "      <td>46.5</td>\n",
       "      <td>0.0</td>\n",
       "      <td>Levant, also monsignor georges. In 1800, lists...</td>\n",
       "      <td>good</td>\n",
       "    </tr>\n",
       "    <tr>\n",
       "      <th>5</th>\n",
       "      <td>5</td>\n",
       "      <td>http://efilmcritic.com/hbs.cgi?movie=311</td>\n",
       "      <td>40</td>\n",
       "      <td>8.28.167.23</td>\n",
       "      <td>United States</td>\n",
       "      <td>com</td>\n",
       "      <td>complete</td>\n",
       "      <td>yes</td>\n",
       "      <td>39.5</td>\n",
       "      <td>0.0</td>\n",
       "      <td>Signals. \\n territorial jurisdictions. common....</td>\n",
       "      <td>good</td>\n",
       "    </tr>\n",
       "  </tbody>\n",
       "</table>\n",
       "</div>"
      ],
      "text/plain": [
       "   Unnamed: 0                                       url  url_len  \\\n",
       "0           0  http://members.tripod.com/russiastation/       40   \n",
       "1           1          http://www.ddj.com/cpp/184403822       32   \n",
       "2           2                  http://www.naef-usa.com/       24   \n",
       "4           4       http://us.imdb.com/title/tt0176269/       35   \n",
       "5           5  http://efilmcritic.com/hbs.cgi?movie=311       40   \n",
       "\n",
       "          ip_add        geo_loc  tld    who_is https  js_len  js_obf_len  \\\n",
       "0  42.77.221.155         Taiwan  com  complete   yes    58.0         0.0   \n",
       "1  3.211.202.180  United States  com  complete   yes    52.5         0.0   \n",
       "2   24.232.54.41      Argentina  com  complete   yes   103.5         0.0   \n",
       "4  205.30.239.85  United States  com  complete   yes    46.5         0.0   \n",
       "5    8.28.167.23  United States  com  complete   yes    39.5         0.0   \n",
       "\n",
       "                                             content label  \n",
       "0  Named themselves charged particles in a manly ...  good  \n",
       "1  And filipino field \\n \\n \\n \\n \\n \\n \\n \\n the...  good  \n",
       "2  Took in cognitivism, whose adherents argue for...  good  \n",
       "4  Levant, also monsignor georges. In 1800, lists...  good  \n",
       "5  Signals. \\n territorial jurisdictions. common....  good  "
      ]
     },
     "execution_count": 11,
     "metadata": {},
     "output_type": "execute_result"
    }
   ],
   "source": [
    "goods.head()"
   ]
  },
  {
   "cell_type": "code",
   "execution_count": 12,
   "id": "92643e68",
   "metadata": {},
   "outputs": [
    {
     "data": {
      "text/plain": [
       "label\n",
       "good    1172747\n",
       "dtype: int64"
      ]
     },
     "execution_count": 12,
     "metadata": {},
     "output_type": "execute_result"
    }
   ],
   "source": [
    "goods.groupby('label').size()"
   ]
  },
  {
   "cell_type": "code",
   "execution_count": 13,
   "id": "08f91999",
   "metadata": {},
   "outputs": [],
   "source": [
    "bads = bads.iloc[0:1001, 0:12]"
   ]
  },
  {
   "cell_type": "code",
   "execution_count": 14,
   "id": "9c4cd5b2",
   "metadata": {},
   "outputs": [],
   "source": [
    "goods = goods.iloc[0:2001, 0:12]"
   ]
  },
  {
   "cell_type": "code",
   "execution_count": 15,
   "id": "9727fcd9",
   "metadata": {},
   "outputs": [
    {
     "data": {
      "text/plain": [
       "label\n",
       "bad    1001\n",
       "dtype: int64"
      ]
     },
     "execution_count": 15,
     "metadata": {},
     "output_type": "execute_result"
    }
   ],
   "source": [
    "bads.groupby('label').size()"
   ]
  },
  {
   "cell_type": "code",
   "execution_count": 16,
   "id": "40186064",
   "metadata": {},
   "outputs": [
    {
     "data": {
      "text/plain": [
       "label\n",
       "good    2001\n",
       "dtype: int64"
      ]
     },
     "execution_count": 16,
     "metadata": {},
     "output_type": "execute_result"
    }
   ],
   "source": [
    "goods.groupby('label').size()"
   ]
  },
  {
   "cell_type": "code",
   "execution_count": 17,
   "id": "f555b143",
   "metadata": {},
   "outputs": [],
   "source": [
    "data = pd.concat([bads,goods])"
   ]
  },
  {
   "cell_type": "code",
   "execution_count": 18,
   "id": "6c1bc829",
   "metadata": {},
   "outputs": [
    {
     "data": {
      "text/html": [
       "<div>\n",
       "<style scoped>\n",
       "    .dataframe tbody tr th:only-of-type {\n",
       "        vertical-align: middle;\n",
       "    }\n",
       "\n",
       "    .dataframe tbody tr th {\n",
       "        vertical-align: top;\n",
       "    }\n",
       "\n",
       "    .dataframe thead th {\n",
       "        text-align: right;\n",
       "    }\n",
       "</style>\n",
       "<table border=\"1\" class=\"dataframe\">\n",
       "  <thead>\n",
       "    <tr style=\"text-align: right;\">\n",
       "      <th></th>\n",
       "      <th>Unnamed: 0</th>\n",
       "      <th>url</th>\n",
       "      <th>url_len</th>\n",
       "      <th>ip_add</th>\n",
       "      <th>geo_loc</th>\n",
       "      <th>tld</th>\n",
       "      <th>who_is</th>\n",
       "      <th>https</th>\n",
       "      <th>js_len</th>\n",
       "      <th>js_obf_len</th>\n",
       "      <th>content</th>\n",
       "      <th>label</th>\n",
       "    </tr>\n",
       "  </thead>\n",
       "  <tbody>\n",
       "    <tr>\n",
       "      <th>3</th>\n",
       "      <td>3</td>\n",
       "      <td>http://www.ff-b2b.de/</td>\n",
       "      <td>21</td>\n",
       "      <td>147.22.38.45</td>\n",
       "      <td>United States</td>\n",
       "      <td>de</td>\n",
       "      <td>incomplete</td>\n",
       "      <td>no</td>\n",
       "      <td>720.0</td>\n",
       "      <td>532.800</td>\n",
       "      <td>fire cumshot sodomize footaction tortur failed...</td>\n",
       "      <td>bad</td>\n",
       "    </tr>\n",
       "    <tr>\n",
       "      <th>64</th>\n",
       "      <td>64</td>\n",
       "      <td>http://dracula-land.sexomultiple.com/cg-amateu...</td>\n",
       "      <td>63</td>\n",
       "      <td>97.83.163.187</td>\n",
       "      <td>United States</td>\n",
       "      <td>com</td>\n",
       "      <td>incomplete</td>\n",
       "      <td>no</td>\n",
       "      <td>621.0</td>\n",
       "      <td>378.810</td>\n",
       "      <td>dingleberry suckmyass transexual waysted piker...</td>\n",
       "      <td>bad</td>\n",
       "    </tr>\n",
       "    <tr>\n",
       "      <th>114</th>\n",
       "      <td>114</td>\n",
       "      <td>http://www.angelfire.com/darkside/ms_sassy/</td>\n",
       "      <td>43</td>\n",
       "      <td>76.72.209.223</td>\n",
       "      <td>United States</td>\n",
       "      <td>com</td>\n",
       "      <td>incomplete</td>\n",
       "      <td>no</td>\n",
       "      <td>513.0</td>\n",
       "      <td>338.580</td>\n",
       "      <td>niggarding masterblaster buttplug bigass gangs...</td>\n",
       "      <td>bad</td>\n",
       "    </tr>\n",
       "    <tr>\n",
       "      <th>144</th>\n",
       "      <td>144</td>\n",
       "      <td>http://www.sexystat.com</td>\n",
       "      <td>23</td>\n",
       "      <td>130.5.218.123</td>\n",
       "      <td>United States</td>\n",
       "      <td>com</td>\n",
       "      <td>incomplete</td>\n",
       "      <td>no</td>\n",
       "      <td>420.3</td>\n",
       "      <td>193.338</td>\n",
       "      <td>attack loverocket bulldike cumshot groe slant ...</td>\n",
       "      <td>bad</td>\n",
       "    </tr>\n",
       "    <tr>\n",
       "      <th>167</th>\n",
       "      <td>167</td>\n",
       "      <td>http://www.bizarre-sex.ws/</td>\n",
       "      <td>26</td>\n",
       "      <td>49.126.108.27</td>\n",
       "      <td>Nepal</td>\n",
       "      <td>ws</td>\n",
       "      <td>incomplete</td>\n",
       "      <td>no</td>\n",
       "      <td>335.7</td>\n",
       "      <td>0.000</td>\n",
       "      <td>muffindiver husky peepshow magicwand mad phukk...</td>\n",
       "      <td>bad</td>\n",
       "    </tr>\n",
       "  </tbody>\n",
       "</table>\n",
       "</div>"
      ],
      "text/plain": [
       "     Unnamed: 0                                                url  url_len  \\\n",
       "3             3                              http://www.ff-b2b.de/       21   \n",
       "64           64  http://dracula-land.sexomultiple.com/cg-amateu...       63   \n",
       "114         114        http://www.angelfire.com/darkside/ms_sassy/       43   \n",
       "144         144                            http://www.sexystat.com       23   \n",
       "167         167                         http://www.bizarre-sex.ws/       26   \n",
       "\n",
       "            ip_add        geo_loc  tld      who_is https  js_len  js_obf_len  \\\n",
       "3     147.22.38.45  United States   de  incomplete    no   720.0     532.800   \n",
       "64   97.83.163.187  United States  com  incomplete    no   621.0     378.810   \n",
       "114  76.72.209.223  United States  com  incomplete    no   513.0     338.580   \n",
       "144  130.5.218.123  United States  com  incomplete    no   420.3     193.338   \n",
       "167  49.126.108.27          Nepal   ws  incomplete    no   335.7       0.000   \n",
       "\n",
       "                                               content label  \n",
       "3    fire cumshot sodomize footaction tortur failed...   bad  \n",
       "64   dingleberry suckmyass transexual waysted piker...   bad  \n",
       "114  niggarding masterblaster buttplug bigass gangs...   bad  \n",
       "144  attack loverocket bulldike cumshot groe slant ...   bad  \n",
       "167  muffindiver husky peepshow magicwand mad phukk...   bad  "
      ]
     },
     "execution_count": 18,
     "metadata": {},
     "output_type": "execute_result"
    }
   ],
   "source": [
    "data.head()"
   ]
  },
  {
   "cell_type": "code",
   "execution_count": 19,
   "id": "7dce4d92",
   "metadata": {},
   "outputs": [
    {
     "data": {
      "text/plain": [
       "label\n",
       "bad     1001\n",
       "good    2001\n",
       "dtype: int64"
      ]
     },
     "execution_count": 19,
     "metadata": {},
     "output_type": "execute_result"
    }
   ],
   "source": [
    "data.groupby('label').size()"
   ]
  },
  {
   "cell_type": "code",
   "execution_count": 20,
   "id": "077d36cd",
   "metadata": {},
   "outputs": [],
   "source": [
    "from sklearn.utils import shuffle\n",
    "data = shuffle(data)"
   ]
  },
  {
   "cell_type": "code",
   "execution_count": 21,
   "id": "a73b3df2",
   "metadata": {
    "scrolled": true
   },
   "outputs": [
    {
     "data": {
      "text/html": [
       "<div>\n",
       "<style scoped>\n",
       "    .dataframe tbody tr th:only-of-type {\n",
       "        vertical-align: middle;\n",
       "    }\n",
       "\n",
       "    .dataframe tbody tr th {\n",
       "        vertical-align: top;\n",
       "    }\n",
       "\n",
       "    .dataframe thead th {\n",
       "        text-align: right;\n",
       "    }\n",
       "</style>\n",
       "<table border=\"1\" class=\"dataframe\">\n",
       "  <thead>\n",
       "    <tr style=\"text-align: right;\">\n",
       "      <th></th>\n",
       "      <th>Unnamed: 0</th>\n",
       "      <th>url</th>\n",
       "      <th>url_len</th>\n",
       "      <th>ip_add</th>\n",
       "      <th>geo_loc</th>\n",
       "      <th>tld</th>\n",
       "      <th>who_is</th>\n",
       "      <th>https</th>\n",
       "      <th>js_len</th>\n",
       "      <th>js_obf_len</th>\n",
       "      <th>content</th>\n",
       "      <th>label</th>\n",
       "    </tr>\n",
       "  </thead>\n",
       "  <tbody>\n",
       "    <tr>\n",
       "      <th>656</th>\n",
       "      <td>656</td>\n",
       "      <td>http://www.sykospark.net/goth/</td>\n",
       "      <td>30</td>\n",
       "      <td>101.237.72.212</td>\n",
       "      <td>China</td>\n",
       "      <td>net</td>\n",
       "      <td>incomplete</td>\n",
       "      <td>yes</td>\n",
       "      <td>184.0</td>\n",
       "      <td>0.0</td>\n",
       "      <td>In namibia tales, e.g. the ugly duckling, the ...</td>\n",
       "      <td>good</td>\n",
       "    </tr>\n",
       "    <tr>\n",
       "      <th>967</th>\n",
       "      <td>967</td>\n",
       "      <td>http://www.charlestonwomensmedicalcenter.com/</td>\n",
       "      <td>45</td>\n",
       "      <td>70.80.230.64</td>\n",
       "      <td>Canada</td>\n",
       "      <td>com</td>\n",
       "      <td>complete</td>\n",
       "      <td>yes</td>\n",
       "      <td>39.0</td>\n",
       "      <td>0.0</td>\n",
       "      <td>Universe does and stars has been to. Are regis...</td>\n",
       "      <td>good</td>\n",
       "    </tr>\n",
       "    <tr>\n",
       "      <th>104</th>\n",
       "      <td>104</td>\n",
       "      <td>http://www.mykoweb.com/caf/species/hypholoma_f...</td>\n",
       "      <td>61</td>\n",
       "      <td>180.239.193.61</td>\n",
       "      <td>South Korea</td>\n",
       "      <td>com</td>\n",
       "      <td>complete</td>\n",
       "      <td>no</td>\n",
       "      <td>92.0</td>\n",
       "      <td>0.0</td>\n",
       "      <td>arabs skinflute nigerian jiggy gipp bitchslap ...</td>\n",
       "      <td>good</td>\n",
       "    </tr>\n",
       "    <tr>\n",
       "      <th>6461</th>\n",
       "      <td>6461</td>\n",
       "      <td>http://www.geocities.com/hollywood/mansion/204...</td>\n",
       "      <td>58</td>\n",
       "      <td>126.176.181.69</td>\n",
       "      <td>Japan</td>\n",
       "      <td>com</td>\n",
       "      <td>incomplete</td>\n",
       "      <td>no</td>\n",
       "      <td>657.0</td>\n",
       "      <td>459.9</td>\n",
       "      <td>Locale specific libraries.) poortinga.. De min...</td>\n",
       "      <td>bad</td>\n",
       "    </tr>\n",
       "    <tr>\n",
       "      <th>859</th>\n",
       "      <td>859</td>\n",
       "      <td>http://www.popswine.com/</td>\n",
       "      <td>24</td>\n",
       "      <td>168.53.36.166</td>\n",
       "      <td>United States</td>\n",
       "      <td>com</td>\n",
       "      <td>complete</td>\n",
       "      <td>yes</td>\n",
       "      <td>145.0</td>\n",
       "      <td>0.0</td>\n",
       "      <td>Leeuwenhoek in the japan ground self-defense f...</td>\n",
       "      <td>good</td>\n",
       "    </tr>\n",
       "  </tbody>\n",
       "</table>\n",
       "</div>"
      ],
      "text/plain": [
       "      Unnamed: 0                                                url  url_len  \\\n",
       "656          656                     http://www.sykospark.net/goth/       30   \n",
       "967          967      http://www.charlestonwomensmedicalcenter.com/       45   \n",
       "104          104  http://www.mykoweb.com/caf/species/hypholoma_f...       61   \n",
       "6461        6461  http://www.geocities.com/hollywood/mansion/204...       58   \n",
       "859          859                           http://www.popswine.com/       24   \n",
       "\n",
       "              ip_add        geo_loc  tld      who_is https  js_len  \\\n",
       "656   101.237.72.212          China  net  incomplete   yes   184.0   \n",
       "967     70.80.230.64         Canada  com    complete   yes    39.0   \n",
       "104   180.239.193.61    South Korea  com    complete    no    92.0   \n",
       "6461  126.176.181.69          Japan  com  incomplete    no   657.0   \n",
       "859    168.53.36.166  United States  com    complete   yes   145.0   \n",
       "\n",
       "      js_obf_len                                            content label  \n",
       "656          0.0  In namibia tales, e.g. the ugly duckling, the ...  good  \n",
       "967          0.0  Universe does and stars has been to. Are regis...  good  \n",
       "104          0.0  arabs skinflute nigerian jiggy gipp bitchslap ...  good  \n",
       "6461       459.9  Locale specific libraries.) poortinga.. De min...   bad  \n",
       "859          0.0  Leeuwenhoek in the japan ground self-defense f...  good  "
      ]
     },
     "execution_count": 21,
     "metadata": {},
     "output_type": "execute_result"
    }
   ],
   "source": [
    "data.head()"
   ]
  },
  {
   "cell_type": "code",
   "execution_count": 50,
   "id": "29830bec",
   "metadata": {
    "scrolled": true
   },
   "outputs": [
    {
     "data": {
      "text/plain": [
       "Unnamed: 0      int64\n",
       "url            object\n",
       "url_len         int64\n",
       "ip_add         object\n",
       "geo_loc        object\n",
       "tld            object\n",
       "who_is         object\n",
       "https          object\n",
       "js_len        float64\n",
       "js_obf_len    float64\n",
       "content        object\n",
       "label          object\n",
       "dtype: object"
      ]
     },
     "execution_count": 50,
     "metadata": {},
     "output_type": "execute_result"
    }
   ],
   "source": [
    "df_train = data.iloc[0:2001, 0:12]\n",
    "df_test = data.iloc[2001:3001, 0:12]\n",
    "df_test.dtypes"
   ]
  },
  {
   "cell_type": "code",
   "execution_count": 51,
   "id": "a3ddf840",
   "metadata": {},
   "outputs": [],
   "source": [
    "class config:\n",
    "    BATCH_SIZE = 128\n",
    "    DEVICE =  torch.device(\"cuda:0\" if torch.cuda.is_available() else \"cpu\")\n",
    "    LEARNING_RATE = 2e-5\n",
    "    EPOCHS = 20"
   ]
  },
  {
   "cell_type": "code",
   "execution_count": 52,
   "id": "37fa5a65",
   "metadata": {},
   "outputs": [],
   "source": [
    "# Making the custom dataset for pytorch\n",
    "class MaliciousBenignData(Dataset):\n",
    "    def __init__(self, df):\n",
    "        self.df = df\n",
    "        self.input = self.df.drop(columns = ['label']).values\n",
    "        self.target = self.df.label\n",
    "        \n",
    "    def __len__(self):\n",
    "        return (len(self.df))\n",
    "    \n",
    "    def __getitem__(self, idx):\n",
    "        return (torch.tensor(self.input[idx]), torch.tensor(self.target[idx]))"
   ]
  },
  {
   "cell_type": "code",
   "execution_count": 53,
   "id": "0306d725",
   "metadata": {},
   "outputs": [],
   "source": [
    "# Creating the dataloader for pytorch\n",
    "def create_dataloader(df, batch_size):\n",
    "    cls = MaliciousBenignData(df)\n",
    "    return DataLoader(\n",
    "        cls,\n",
    "        batch_size = batch_size,\n",
    "        num_workers = 0\n",
    "    )\n",
    "\n",
    "df_train_loader = create_dataloader(df_train, batch_size = config.BATCH_SIZE)\n",
    "df_test_loader = create_dataloader(df_test, batch_size = 1) # Here for testing using the batch size as 1\n",
    "\n"
   ]
  },
  {
   "cell_type": "code",
   "execution_count": 54,
   "id": "6c7eaf3f",
   "metadata": {},
   "outputs": [
    {
     "data": {
      "text/plain": [
       "{'dataset': <__main__.MaliciousBenignData at 0x1b4a5885250>,\n",
       " 'num_workers': 0,\n",
       " 'prefetch_factor': 2,\n",
       " 'pin_memory': False,\n",
       " 'timeout': 0,\n",
       " 'worker_init_fn': None,\n",
       " '_DataLoader__multiprocessing_context': None,\n",
       " '_dataset_kind': 0,\n",
       " 'batch_size': 128,\n",
       " 'drop_last': False,\n",
       " 'sampler': <torch.utils.data.sampler.SequentialSampler at 0x1b4a5885520>,\n",
       " 'batch_sampler': <torch.utils.data.sampler.BatchSampler at 0x1b4a58857c0>,\n",
       " 'generator': None,\n",
       " 'collate_fn': <function torch.utils.data._utils.collate.default_collate(batch)>,\n",
       " 'persistent_workers': False,\n",
       " '_DataLoader__initialized': True,\n",
       " '_IterableDataset_len_called': None,\n",
       " '_iterator': None}"
      ]
     },
     "execution_count": 54,
     "metadata": {},
     "output_type": "execute_result"
    }
   ],
   "source": [
    "df_train_loader.__dict__"
   ]
  },
  {
   "cell_type": "code",
   "execution_count": 55,
   "id": "9a9834cf",
   "metadata": {},
   "outputs": [],
   "source": [
    "class dnn(nn.Module):\n",
    "    def __init__(self):\n",
    "        super(dnn, self).__init__()\n",
    "\n",
    "        self.fc1 = nn.Linear(10, 64)\n",
    "        self.fc2 = nn.Linear(64, 128)\n",
    "        self.fc3 = nn.Linear(128, 128)\n",
    "        self.out = nn.Linear(128, 1)\n",
    "\n",
    "        self.dropout1 = nn.Dropout(p = 0.2)        \n",
    "        self.dropout2 = nn.Dropout(p = 0.3)\n",
    "        self.batchn1 = nn.BatchNorm1d(num_features = 64)\n",
    "        self.batchn2 = nn.BatchNorm1d(num_features = 128)\n",
    "\n",
    "    def forward(self, inputs):\n",
    "\n",
    "        t = self.fc1(inputs)\n",
    "        t = F.relu(t)\n",
    "        t = self.batchn1(t)\n",
    "        t = self.dropout1(t)\n",
    "        t = self.fc2(t)\n",
    "        t = F.relu(t)\n",
    "        t = self.batchn2(t)\n",
    "        t = self.dropout2(t)\n",
    "        t = self.fc3(t)\n",
    "        t = F.relu(t)\n",
    "        t = self.out(t)\n",
    "\n",
    "        return t"
   ]
  },
  {
   "cell_type": "code",
   "execution_count": 56,
   "id": "e01a8d6b",
   "metadata": {},
   "outputs": [
    {
     "name": "stdout",
     "output_type": "stream",
     "text": [
      "dnn(\n",
      "  (fc1): Linear(in_features=10, out_features=64, bias=True)\n",
      "  (fc2): Linear(in_features=64, out_features=128, bias=True)\n",
      "  (fc3): Linear(in_features=128, out_features=128, bias=True)\n",
      "  (out): Linear(in_features=128, out_features=1, bias=True)\n",
      "  (dropout1): Dropout(p=0.2, inplace=False)\n",
      "  (dropout2): Dropout(p=0.3, inplace=False)\n",
      "  (batchn1): BatchNorm1d(64, eps=1e-05, momentum=0.1, affine=True, track_running_stats=True)\n",
      "  (batchn2): BatchNorm1d(128, eps=1e-05, momentum=0.1, affine=True, track_running_stats=True)\n",
      ")\n"
     ]
    }
   ],
   "source": [
    "model = dnn()\n",
    "model.to(config.DEVICE)\n",
    "print (model)"
   ]
  },
  {
   "cell_type": "code",
   "execution_count": 57,
   "id": "3aaf835f",
   "metadata": {},
   "outputs": [],
   "source": [
    "# Criterian and the Optimizer for the model\n",
    "criterian = nn.BCEWithLogitsLoss()\n",
    "optimizer = optim.Adam(model.parameters(), lr = config.LEARNING_RATE)"
   ]
  },
  {
   "cell_type": "code",
   "execution_count": 58,
   "id": "561c7d07",
   "metadata": {},
   "outputs": [],
   "source": [
    "# Simple Binary Accuracy Function\n",
    "def binary_acc(predictions, y_test):\n",
    "    y_pred = torch.round(torch.sigmoid(predictions))\n",
    "    correct = (y_pred == y_test).sum().float()\n",
    "    acc = torch.round((correct/y_test.shape[0])*100)\n",
    "    return acc"
   ]
  },
  {
   "cell_type": "code",
   "execution_count": 59,
   "id": "443479e8",
   "metadata": {},
   "outputs": [],
   "source": [
    "# Training function\n",
    "\n",
    "def train_model(model, device, data_loader, optimizer, criterian):\n",
    "    # Putting the model in training mode\n",
    "    model.train()\n",
    "\n",
    "    for epoch in range(1, config.EPOCHS+1):\n",
    "        epoch_loss = 0\n",
    "        epoch_acc = 0\n",
    "        for X, y in data_loader:\n",
    "\n",
    "            X = X.to(device)\n",
    "            y_ = torch.tensor(y.unsqueeze(1), dtype = torch.float32)\n",
    "            y = y_.to(device)\n",
    "\n",
    "            # Zeroing the gradient\n",
    "            optimizer.zero_grad()\n",
    "\n",
    "            predictions = model(X.float())\n",
    "\n",
    "            loss = criterian(predictions, y)\n",
    "            acc = binary_acc(predictions, y)\n",
    "\n",
    "            loss.backward() # Calculate Gradient\n",
    "            optimizer.step() # Updating Weights\n",
    "\n",
    "            epoch_loss += loss.item()\n",
    "            epoch_acc += acc.item()\n",
    "\n",
    "        print (f\"Epoch -- {epoch} | Loss : {epoch_loss/len(data_loader): .5f} | Accuracy : {epoch_acc/len(data_loader): .5f}\")"
   ]
  },
  {
   "cell_type": "code",
   "execution_count": 60,
   "id": "21a9c4a0",
   "metadata": {},
   "outputs": [],
   "source": [
    "# Evaluation Function\n",
    "\n",
    "def eval_model(model, device, data_loader):\n",
    "    # Putting the model in evaluation mode\n",
    "    model.eval()\n",
    "\n",
    "    y_pred = []\n",
    "    y_test_al = []\n",
    "\n",
    "    with torch.no_grad():\n",
    "        for X_test, y_test in data_loader:\n",
    "            X_test = X_test.to(device)\n",
    "\n",
    "            predictions = model(X_test.float())\n",
    "            pred = torch.round(torch.sigmoid(predictions))\n",
    "\n",
    "            y_test_al.append(y_test.tolist())\n",
    "            y_pred.append(pred.tolist())\n",
    "\n",
    "        # Changing the Predictions into list \n",
    "        y_test_al = [ele[0] for ele in y_test_al]\n",
    "        y_pred = [int(ele[0][0]) for ele in y_pred] # the format of the prediction is [[[0]], [[1]]]\n",
    "\n",
    "        return (y_test_al, y_pred)"
   ]
  },
  {
   "cell_type": "code",
   "execution_count": 61,
   "id": "0aa67628",
   "metadata": {},
   "outputs": [
    {
     "ename": "TypeError",
     "evalue": "can't convert np.ndarray of type numpy.object_. The only supported types are: float64, float32, float16, complex64, complex128, int64, int32, int16, int8, uint8, and bool.",
     "output_type": "error",
     "traceback": [
      "\u001b[1;31m---------------------------------------------------------------------------\u001b[0m",
      "\u001b[1;31mTypeError\u001b[0m                                 Traceback (most recent call last)",
      "Input \u001b[1;32mIn [61]\u001b[0m, in \u001b[0;36m<cell line: 1>\u001b[1;34m()\u001b[0m\n\u001b[1;32m----> 1\u001b[0m \u001b[43mtrain_model\u001b[49m\u001b[43m(\u001b[49m\u001b[43mmodel\u001b[49m\u001b[43m,\u001b[49m\u001b[43m \u001b[49m\u001b[43mconfig\u001b[49m\u001b[38;5;241;43m.\u001b[39;49m\u001b[43mDEVICE\u001b[49m\u001b[43m,\u001b[49m\u001b[43m \u001b[49m\u001b[43mdf_train_loader\u001b[49m\u001b[43m,\u001b[49m\u001b[43m \u001b[49m\u001b[43moptimizer\u001b[49m\u001b[43m,\u001b[49m\u001b[43m \u001b[49m\u001b[43mcriterian\u001b[49m\u001b[43m)\u001b[49m\n",
      "Input \u001b[1;32mIn [59]\u001b[0m, in \u001b[0;36mtrain_model\u001b[1;34m(model, device, data_loader, optimizer, criterian)\u001b[0m\n\u001b[0;32m      8\u001b[0m epoch_loss \u001b[38;5;241m=\u001b[39m \u001b[38;5;241m0\u001b[39m\n\u001b[0;32m      9\u001b[0m epoch_acc \u001b[38;5;241m=\u001b[39m \u001b[38;5;241m0\u001b[39m\n\u001b[1;32m---> 10\u001b[0m \u001b[38;5;28;01mfor\u001b[39;00m X, y \u001b[38;5;129;01min\u001b[39;00m data_loader:\n\u001b[0;32m     12\u001b[0m     X \u001b[38;5;241m=\u001b[39m X\u001b[38;5;241m.\u001b[39mto(device)\n\u001b[0;32m     13\u001b[0m     y_ \u001b[38;5;241m=\u001b[39m torch\u001b[38;5;241m.\u001b[39mtensor(y\u001b[38;5;241m.\u001b[39munsqueeze(\u001b[38;5;241m1\u001b[39m), dtype \u001b[38;5;241m=\u001b[39m torch\u001b[38;5;241m.\u001b[39mfloat32)\n",
      "File \u001b[1;32m~\\anaconda3\\lib\\site-packages\\torch\\utils\\data\\dataloader.py:530\u001b[0m, in \u001b[0;36m_BaseDataLoaderIter.__next__\u001b[1;34m(self)\u001b[0m\n\u001b[0;32m    528\u001b[0m \u001b[38;5;28;01mif\u001b[39;00m \u001b[38;5;28mself\u001b[39m\u001b[38;5;241m.\u001b[39m_sampler_iter \u001b[38;5;129;01mis\u001b[39;00m \u001b[38;5;28;01mNone\u001b[39;00m:\n\u001b[0;32m    529\u001b[0m     \u001b[38;5;28mself\u001b[39m\u001b[38;5;241m.\u001b[39m_reset()\n\u001b[1;32m--> 530\u001b[0m data \u001b[38;5;241m=\u001b[39m \u001b[38;5;28;43mself\u001b[39;49m\u001b[38;5;241;43m.\u001b[39;49m\u001b[43m_next_data\u001b[49m\u001b[43m(\u001b[49m\u001b[43m)\u001b[49m\n\u001b[0;32m    531\u001b[0m \u001b[38;5;28mself\u001b[39m\u001b[38;5;241m.\u001b[39m_num_yielded \u001b[38;5;241m+\u001b[39m\u001b[38;5;241m=\u001b[39m \u001b[38;5;241m1\u001b[39m\n\u001b[0;32m    532\u001b[0m \u001b[38;5;28;01mif\u001b[39;00m \u001b[38;5;28mself\u001b[39m\u001b[38;5;241m.\u001b[39m_dataset_kind \u001b[38;5;241m==\u001b[39m _DatasetKind\u001b[38;5;241m.\u001b[39mIterable \u001b[38;5;129;01mand\u001b[39;00m \\\n\u001b[0;32m    533\u001b[0m         \u001b[38;5;28mself\u001b[39m\u001b[38;5;241m.\u001b[39m_IterableDataset_len_called \u001b[38;5;129;01mis\u001b[39;00m \u001b[38;5;129;01mnot\u001b[39;00m \u001b[38;5;28;01mNone\u001b[39;00m \u001b[38;5;129;01mand\u001b[39;00m \\\n\u001b[0;32m    534\u001b[0m         \u001b[38;5;28mself\u001b[39m\u001b[38;5;241m.\u001b[39m_num_yielded \u001b[38;5;241m>\u001b[39m \u001b[38;5;28mself\u001b[39m\u001b[38;5;241m.\u001b[39m_IterableDataset_len_called:\n",
      "File \u001b[1;32m~\\anaconda3\\lib\\site-packages\\torch\\utils\\data\\dataloader.py:570\u001b[0m, in \u001b[0;36m_SingleProcessDataLoaderIter._next_data\u001b[1;34m(self)\u001b[0m\n\u001b[0;32m    568\u001b[0m \u001b[38;5;28;01mdef\u001b[39;00m \u001b[38;5;21m_next_data\u001b[39m(\u001b[38;5;28mself\u001b[39m):\n\u001b[0;32m    569\u001b[0m     index \u001b[38;5;241m=\u001b[39m \u001b[38;5;28mself\u001b[39m\u001b[38;5;241m.\u001b[39m_next_index()  \u001b[38;5;66;03m# may raise StopIteration\u001b[39;00m\n\u001b[1;32m--> 570\u001b[0m     data \u001b[38;5;241m=\u001b[39m \u001b[38;5;28;43mself\u001b[39;49m\u001b[38;5;241;43m.\u001b[39;49m\u001b[43m_dataset_fetcher\u001b[49m\u001b[38;5;241;43m.\u001b[39;49m\u001b[43mfetch\u001b[49m\u001b[43m(\u001b[49m\u001b[43mindex\u001b[49m\u001b[43m)\u001b[49m  \u001b[38;5;66;03m# may raise StopIteration\u001b[39;00m\n\u001b[0;32m    571\u001b[0m     \u001b[38;5;28;01mif\u001b[39;00m \u001b[38;5;28mself\u001b[39m\u001b[38;5;241m.\u001b[39m_pin_memory:\n\u001b[0;32m    572\u001b[0m         data \u001b[38;5;241m=\u001b[39m _utils\u001b[38;5;241m.\u001b[39mpin_memory\u001b[38;5;241m.\u001b[39mpin_memory(data)\n",
      "File \u001b[1;32m~\\anaconda3\\lib\\site-packages\\torch\\utils\\data\\_utils\\fetch.py:49\u001b[0m, in \u001b[0;36m_MapDatasetFetcher.fetch\u001b[1;34m(self, possibly_batched_index)\u001b[0m\n\u001b[0;32m     47\u001b[0m \u001b[38;5;28;01mdef\u001b[39;00m \u001b[38;5;21mfetch\u001b[39m(\u001b[38;5;28mself\u001b[39m, possibly_batched_index):\n\u001b[0;32m     48\u001b[0m     \u001b[38;5;28;01mif\u001b[39;00m \u001b[38;5;28mself\u001b[39m\u001b[38;5;241m.\u001b[39mauto_collation:\n\u001b[1;32m---> 49\u001b[0m         data \u001b[38;5;241m=\u001b[39m [\u001b[38;5;28mself\u001b[39m\u001b[38;5;241m.\u001b[39mdataset[idx] \u001b[38;5;28;01mfor\u001b[39;00m idx \u001b[38;5;129;01min\u001b[39;00m possibly_batched_index]\n\u001b[0;32m     50\u001b[0m     \u001b[38;5;28;01melse\u001b[39;00m:\n\u001b[0;32m     51\u001b[0m         data \u001b[38;5;241m=\u001b[39m \u001b[38;5;28mself\u001b[39m\u001b[38;5;241m.\u001b[39mdataset[possibly_batched_index]\n",
      "File \u001b[1;32m~\\anaconda3\\lib\\site-packages\\torch\\utils\\data\\_utils\\fetch.py:49\u001b[0m, in \u001b[0;36m<listcomp>\u001b[1;34m(.0)\u001b[0m\n\u001b[0;32m     47\u001b[0m \u001b[38;5;28;01mdef\u001b[39;00m \u001b[38;5;21mfetch\u001b[39m(\u001b[38;5;28mself\u001b[39m, possibly_batched_index):\n\u001b[0;32m     48\u001b[0m     \u001b[38;5;28;01mif\u001b[39;00m \u001b[38;5;28mself\u001b[39m\u001b[38;5;241m.\u001b[39mauto_collation:\n\u001b[1;32m---> 49\u001b[0m         data \u001b[38;5;241m=\u001b[39m [\u001b[38;5;28;43mself\u001b[39;49m\u001b[38;5;241;43m.\u001b[39;49m\u001b[43mdataset\u001b[49m\u001b[43m[\u001b[49m\u001b[43midx\u001b[49m\u001b[43m]\u001b[49m \u001b[38;5;28;01mfor\u001b[39;00m idx \u001b[38;5;129;01min\u001b[39;00m possibly_batched_index]\n\u001b[0;32m     50\u001b[0m     \u001b[38;5;28;01melse\u001b[39;00m:\n\u001b[0;32m     51\u001b[0m         data \u001b[38;5;241m=\u001b[39m \u001b[38;5;28mself\u001b[39m\u001b[38;5;241m.\u001b[39mdataset[possibly_batched_index]\n",
      "Input \u001b[1;32mIn [52]\u001b[0m, in \u001b[0;36mMaliciousBenignData.__getitem__\u001b[1;34m(self, idx)\u001b[0m\n\u001b[0;32m     11\u001b[0m \u001b[38;5;28;01mdef\u001b[39;00m \u001b[38;5;21m__getitem__\u001b[39m(\u001b[38;5;28mself\u001b[39m, idx):\n\u001b[1;32m---> 12\u001b[0m     \u001b[38;5;28;01mreturn\u001b[39;00m (\u001b[43mtorch\u001b[49m\u001b[38;5;241;43m.\u001b[39;49m\u001b[43mtensor\u001b[49m\u001b[43m(\u001b[49m\u001b[38;5;28;43mself\u001b[39;49m\u001b[38;5;241;43m.\u001b[39;49m\u001b[43minput\u001b[49m\u001b[43m[\u001b[49m\u001b[43midx\u001b[49m\u001b[43m]\u001b[49m\u001b[43m)\u001b[49m, torch\u001b[38;5;241m.\u001b[39mtensor(\u001b[38;5;28mself\u001b[39m\u001b[38;5;241m.\u001b[39mtarget[idx]))\n",
      "\u001b[1;31mTypeError\u001b[0m: can't convert np.ndarray of type numpy.object_. The only supported types are: float64, float32, float16, complex64, complex128, int64, int32, int16, int8, uint8, and bool."
     ]
    }
   ],
   "source": [
    "train_model(model, config.DEVICE, df_train_loader, optimizer, criterian)"
   ]
  },
  {
   "cell_type": "code",
   "execution_count": null,
   "id": "002653d4",
   "metadata": {},
   "outputs": [],
   "source": []
  }
 ],
 "metadata": {
  "kernelspec": {
   "display_name": "Python 3 (ipykernel)",
   "language": "python",
   "name": "python3"
  },
  "language_info": {
   "codemirror_mode": {
    "name": "ipython",
    "version": 3
   },
   "file_extension": ".py",
   "mimetype": "text/x-python",
   "name": "python",
   "nbconvert_exporter": "python",
   "pygments_lexer": "ipython3",
   "version": "3.9.12"
  }
 },
 "nbformat": 4,
 "nbformat_minor": 5
}
